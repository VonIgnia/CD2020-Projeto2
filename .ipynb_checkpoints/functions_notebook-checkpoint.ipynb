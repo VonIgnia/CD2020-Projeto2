{
 "cells": [
  {
   "cell_type": "markdown",
   "metadata": {},
   "source": [
    "O propósito desse notebook é a hospedagem de funções que serão utilizados nos outros notebooks desse projeto, tal como uma breve explicação de seu funcionamento"
   ]
  },
  {
   "cell_type": "markdown",
   "metadata": {},
   "source": [
    "___\n",
    "### Imports iniciais"
   ]
  },
  {
   "cell_type": "code",
   "execution_count": 1,
   "metadata": {},
   "outputs": [],
   "source": [
    "import pandas as pd\n",
    "import numpy as np"
   ]
  },
  {
   "cell_type": "code",
   "execution_count": 2,
   "metadata": {},
   "outputs": [],
   "source": [
    "from ipywidgets import interact, interactive, fixed, interact_manual\n",
    "import ipywidgets as widgets"
   ]
  },
  {
   "cell_type": "code",
   "execution_count": 3,
   "metadata": {},
   "outputs": [],
   "source": [
    "import matplotlib.pyplot as plt"
   ]
  },
  {
   "cell_type": "code",
   "execution_count": 4,
   "metadata": {},
   "outputs": [],
   "source": [
    "from sklearn.model_selection import train_test_split as tts\n",
    "from sklearn.metrics import *"
   ]
  },
  {
   "cell_type": "markdown",
   "metadata": {},
   "source": [
    "___\n",
    "### Dados"
   ]
  },
  {
   "cell_type": "code",
   "execution_count": 5,
   "metadata": {},
   "outputs": [],
   "source": [
    "Dados=pd.read_csv('cars_Brazil_data.csv')"
   ]
  },
  {
   "cell_type": "code",
   "execution_count": 6,
   "metadata": {},
   "outputs": [],
   "source": [
    "#separa carros com mais de 500 ocorrências no Dataframe\n",
    "Mais_de_500 = Dados['nome'].value_counts() > 500\n",
    "Mais_de_500 = list(Mais_de_500.loc[Mais_de_500].index)\n",
    "Dados = Dados.loc[Dados['nome'].isin(Mais_de_500),:];"
   ]
  },
  {
   "cell_type": "markdown",
   "metadata": {},
   "source": [
    "#### Separando 10% do Dataframe global para treinamento\n",
    "Nota para si mesmo: Estudar se faz sentido ou não eliminar as colunas nome do carro e marca \n",
    "- (Observação inicial 2 de junho: Não parece fazer)"
   ]
  },
  {
   "cell_type": "code",
   "execution_count": 7,
   "metadata": {},
   "outputs": [],
   "source": [
    "# separa características dos carros, que podem ser relevantes no contexto de uma regrssão e \\n\n",
    "# elimina as características irrelevantes assim como a coluna com resultado esperado;\n",
    "inputs = Dados.drop(columns=[\"valor\"])\n",
    "\n",
    "#separa o resultado esperado, devemos calcular a previsão mais próxima a eles;\n",
    "target = Dados[\"valor\"]\n",
    "\n",
    "#separando dataframes teste e treino\n",
    "X_train,X_test,Y_train,Y_test=tts(inputs,target,test_size=0.9)"
   ]
  },
  {
   "cell_type": "markdown",
   "metadata": {},
   "source": [
    "#### Separando 10% do Dataframe de cada carro para treinamento:"
   ]
  },
  {
   "cell_type": "code",
   "execution_count": 36,
   "metadata": {},
   "outputs": [],
   "source": [
    "def Separa_dataframe_por_carro(x):\n",
    "    Carro = {}\n",
    "    Carro_inputs  = {}\n",
    "    Carro_target  = {}\n",
    "    Carro_X_train = {}\n",
    "    Carro_X_test  = {}\n",
    "    Carro_Y_train = {}\n",
    "    Carro_Y_test  = {}\n",
    "\n",
    "    Carro[x] = Dados.loc[Dados['nome'] == x]\n",
    "        \n",
    "    Carro_inputs[x] = Carro[x].drop(columns=[\"valor\"])\n",
    "    Carro_target[x] = Carro[x][\"valor\"]\n",
    "        \n",
    "    #separando dataframes teste e treino\n",
    "    Carro_X_train[x],Carro_X_test[x],Carro_Y_train[x],Carro_Y_test[x]=tts(Carro_inputs[x],Carro_target[x],test_size=0.9)\n",
    "    return (Carro_X_train[x],Carro_X_test[x],Carro_Y_train[x],Carro_Y_test[x])"
   ]
  },
  {
   "cell_type": "code",
   "execution_count": 38,
   "metadata": {},
   "outputs": [
    {
     "data": {
      "application/vnd.jupyter.widget-view+json": {
       "model_id": "6240627241b84fc8a6fab4108e85b682",
       "version_major": 2,
       "version_minor": 0
      },
      "text/plain": [
       "interactive(children=(Dropdown(description='x', options=('CHEVROLET ONIX', 'RENAULT SANDERO', 'FORD KA', 'HYUN…"
      ]
     },
     "metadata": {},
     "output_type": "display_data"
    }
   ],
   "source": [
    "interact(Separa_dataframe_por_carro, x = Mais_de_500);\n",
    "#Problema: Tudo é chevrolet onix, em todas as colunas #fixed in 3/06"
   ]
  },
  {
   "cell_type": "code",
   "execution_count": 31,
   "metadata": {},
   "outputs": [
    {
     "name": "stdout",
     "output_type": "stream",
     "text": [
      "CHEVROLET ONIX\n",
      "RENAULT SANDERO\n",
      "FORD KA\n",
      "HYUNDAI HB20\n",
      "FORD ECOSPORT\n",
      "CHEVROLET PRISMA\n",
      "FORD FIESTA\n",
      "VOLKSWAGEN GOL\n",
      "RENAULT DUSTER\n",
      "TOYOTA COROLLA\n",
      "RENAULT LOGAN\n",
      "VOLKSWAGEN FOX\n",
      "JEEP RENEGADE\n",
      "HONDA CIVIC\n",
      "VOLKSWAGEN VOYAGE\n",
      "FIAT PALIO\n",
      "HONDA FIT\n",
      "CHEVROLET CRUZE\n",
      "FIAT UNO\n",
      "CHEVROLET COBALT\n",
      "HYUNDAI HB20S\n",
      "CITROEN C3\n",
      "FIAT STRADA\n",
      "FORD FOCUS\n",
      "JEEP COMPASS\n",
      "FORD KA+\n",
      "FIAT ARGO\n",
      "FIAT TORO\n",
      "NISSAN VERSA\n",
      "CHEVROLET SPIN\n",
      "HYUNDAI TUCSON\n",
      "VOLKSWAGEN SAVEIRO\n"
     ]
    }
   ],
   "source": [
    " for x in Mais_de_500:\n",
    "        print(x)"
   ]
  },
  {
   "cell_type": "markdown",
   "metadata": {},
   "source": [
    "___\n",
    "### Funções de Filtragem e Separação dos dados"
   ]
  },
  {
   "cell_type": "code",
   "execution_count": null,
   "metadata": {},
   "outputs": [],
   "source": [
    "def Separa_por_veículo(x):\n",
    "    return Dados.loc[Dados['nome'] == x]"
   ]
  },
  {
   "cell_type": "code",
   "execution_count": null,
   "metadata": {},
   "outputs": [],
   "source": [
    "def Dispersão_individual_por_veículo(x):\n",
    "    gráfico_de_dispersão  = plt.scatter (Dados.loc[Dados['nome'] == x]['valor'],Dados.loc[Dados['nome'] == x]['km_rodados'])\n",
    "    return gráfico_de_dispersão"
   ]
  },
  {
   "cell_type": "code",
   "execution_count": null,
   "metadata": {},
   "outputs": [],
   "source": [
    "#Função incompleta(2 de junho):\n",
    "#elementos restantes, definir cores sem repetição (criar um np.arange de cores???)\n",
    "\n",
    "def Dispersão_global_por_veículo(lista):\n",
    "    for x in lista:\n",
    "        plt.scatter (Dados.loc[Dados['nome'] == x]['valor'],Dados.loc[Dados['nome'] == x]['km_rodados'],\n",
    "                 label=x)\n",
    "        plt.legend();"
   ]
  },
  {
   "cell_type": "markdown",
   "metadata": {},
   "source": [
    "___\n",
    "### Funções processadas do sklearn"
   ]
  },
  {
   "cell_type": "code",
   "execution_count": null,
   "metadata": {},
   "outputs": [],
   "source": []
  }
 ],
 "metadata": {
  "kernelspec": {
   "display_name": "Python 3",
   "language": "python",
   "name": "python3"
  },
  "language_info": {
   "codemirror_mode": {
    "name": "ipython",
    "version": 3
   },
   "file_extension": ".py",
   "mimetype": "text/x-python",
   "name": "python",
   "nbconvert_exporter": "python",
   "pygments_lexer": "ipython3",
   "version": "3.7.1"
  }
 },
 "nbformat": 4,
 "nbformat_minor": 2
}
