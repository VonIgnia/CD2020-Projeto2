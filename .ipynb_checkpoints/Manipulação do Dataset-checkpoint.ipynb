{
 "cells": [
  {
   "cell_type": "code",
   "execution_count": 1,
   "metadata": {},
   "outputs": [],
   "source": [
    "import pandas as pd"
   ]
  },
  {
   "cell_type": "code",
   "execution_count": 2,
   "metadata": {},
   "outputs": [],
   "source": [
    "Dados=pd.read_csv('cars_Brazil_data.csv')"
   ]
  },
  {
   "cell_type": "code",
   "execution_count": 11,
   "metadata": {},
   "outputs": [],
   "source": [
    "#separa todos os carros com número de ocorrência maior que 500\n",
    "Dados['nome'].value_counts().loc[Dados['nome'].value_counts()>500];"
   ]
  },
  {
   "cell_type": "code",
   "execution_count": 56,
   "metadata": {},
   "outputs": [
    {
     "data": {
      "text/plain": [
       "2160       RENAULT SANDERO\n",
       "1913           PEUGEOT 207\n",
       "1646      CHEVROLET PRISMA\n",
       "1382     VOLKSWAGEN AMAROK\n",
       "1368          NISSAN KICKS\n",
       "1353          JEEP COMPASS\n",
       "1278    VOLKSWAGEN SAVEIRO\n",
       "1248    VOLKSWAGEN SAVEIRO\n",
       "1129          NISSAN KICKS\n",
       "1108          NISSAN MARCH\n",
       "1096               FORD KA\n",
       "909                 BMW X3\n",
       "878         VOLKSWAGEN GOL\n",
       "863               BMW 118I\n",
       "851          JEEP RENEGADE\n",
       "848        CHEVROLET AGILE\n",
       "804        VOLKSWAGEN GOLF\n",
       "793           NISSAN TIIDA\n",
       "781         HYUNDAI TUCSON\n",
       "763        CHEVROLET CORSA\n",
       "732           HYUNDAI HB20\n",
       "712           HYUNDAI IX35\n",
       "684             HONDA HR-V\n",
       "677         VOLKSWAGEN GOL\n",
       "677         VOLKSWAGEN GOL\n",
       "661              FIAT MOBI\n",
       "601         CHEVROLET ONIX\n",
       "574           RENAULT CLIO\n",
       "566           NISSAN MARCH\n",
       "539                AUDI A4\n",
       "534          NISSAN SENTRA\n",
       "509         CHEVROLET ONIX\n",
       "Name: nome, dtype: object"
      ]
     },
     "execution_count": 56,
     "metadata": {},
     "output_type": "execute_result"
    }
   ],
   "source": [
    "Dados['nome'].loc[Dados['nome'].value_counts().loc[Dados['nome'].value_counts()>500]]"
   ]
  },
  {
   "cell_type": "markdown",
   "metadata": {},
   "source": [
    "## Objetivos do Notebook:\n",
    "- Primeira observação do Dataset  (check em 28/05)\n",
    "- Filtragem inicial e Limpeza\n",
    "    - \"Separar o Dataset por nome de carro faz sentido?\"\n",
    "        - obs: Se tivermos o objetivo de determinar o preço de um carro específico, é essencial. No entanto minha dúvida é referente a um contexto mais geral.\n",
    "    - Esse é um dataset bem limpo, não acredito que haja a necessidade de eliminar nenhuma coluna* (check em 28/05)\n",
    "- Tornar a Separação por nome de carro um processo interativo com uso da função `interact` da biblioteca `ipywidgets`"
   ]
  }
 ],
 "metadata": {
  "kernelspec": {
   "display_name": "Python 3",
   "language": "python",
   "name": "python3"
  },
  "language_info": {
   "codemirror_mode": {
    "name": "ipython",
    "version": 3
   },
   "file_extension": ".py",
   "mimetype": "text/x-python",
   "name": "python",
   "nbconvert_exporter": "python",
   "pygments_lexer": "ipython3",
   "version": "3.7.1"
  }
 },
 "nbformat": 4,
 "nbformat_minor": 2
}
