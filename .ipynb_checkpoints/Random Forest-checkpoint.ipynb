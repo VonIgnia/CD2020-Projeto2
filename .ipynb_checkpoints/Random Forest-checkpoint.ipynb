{
 "cells": [
  {
   "cell_type": "markdown",
   "metadata": {},
   "source": [
    "# Ciência dos Dados 2020 - Projeto 2\n",
    "___\n",
    "- Giovanni Rozatti\n",
    "- Larissa Oliveira da Silva\n",
    "___"
   ]
  },
  {
   "cell_type": "markdown",
   "metadata": {},
   "source": [
    "### Célula de imports\n",
    "Faz o import das funções que serão utilizadas nesse notebook, sendo que:  \n",
    "- Alguns deles são funções importadas de bibliotecas em Python, a explicação para o funcionamento dessas se encontra na documentação registrada delas e pode ser facilmente encontrada ao se pesquisar o nome da Biblioteca no Google  \n",
    "- Outros são funções processadas em outro notebook* desse repositório e as explicações para o funcionamento dessas pode ser encontrado no próprio notebook \n",
    "$*$ o notebook em questão é o `functions_notebook`."
   ]
  },
  {
   "cell_type": "code",
   "execution_count": 1,
   "metadata": {},
   "outputs": [
    {
     "name": "stdout",
     "output_type": "stream",
     "text": [
      "importing Jupyter notebook from functions_notebook.ipynb\n"
     ]
    },
    {
     "data": {
      "text/plain": [
       "<Figure size 640x480 with 1 Axes>"
      ]
     },
     "metadata": {},
     "output_type": "display_data"
    },
    {
     "name": "stdout",
     "output_type": "stream",
     "text": [
      "0.6944707543193316\n"
     ]
    }
   ],
   "source": [
    "### Funções da Biblioteca ipywidgets\n",
    "from ipywidgets import interact, interactive, fixed, interact_manual\n",
    "import ipywidgets as widgets\n",
    "import import_ipynb\n",
    "\n",
    "### Funções pré-processadas no notebook: functions_notebook.ipynb\n",
    "from functions_notebook import Mais_de_500;\n",
    "from functions_notebook import Random_Forest_geral;\n",
    "from functions_notebook import Random_Forest_individual;"
   ]
  },
  {
   "cell_type": "markdown",
   "metadata": {},
   "source": [
    "### Explicação do Modelo:"
   ]
  },
  {
   "cell_type": "markdown",
   "metadata": {},
   "source": [
    "#### $1$. Introdução ao Modelo:\n",
    "  O modelo de Random Forest Regression é uma técnica de 'empacotamento' em que múltiplas árvores de decisão rodam umas em paralelo com as outras sem que hajam interações entre elas. Trata-se de um (algoritmo de conjunto/ algoritmo conjugado)(conjunto de algoritmos) que combina algoritmos de regressão, sendo que eles podem ser de diferentes tipos. Múltiplas árvores de decisão são treinadas sob essas técnicas e então ponderadas para atingir um resultado final."
   ]
  },
  {
   "cell_type": "markdown",
   "metadata": {},
   "source": [
    "#### $2$.O que é um modelo de Regressão:  \n",
    "  Regression is a machine learning algorithm that is based on supervised learning and is used to perform regression tasks. Regression models target prediction value based on independent variables. It is used to finding the relationship between variables and forecasting. So, given data of predictor variables (inputs, X) and a continuous response variable (output, Y) build a model for   \n",
    "  \n",
    "**<font color=\"#FF0000\">I.(traduzir o resto depois)</font>**\n",
    "\n",
    "Modelos de regressão são algoritmos de Machine Learning* baseados em supervisão"
   ]
  },
  {
   "cell_type": "markdown",
   "metadata": {},
   "source": [
    "#### $3$.Relevância no contexto de classificadores:  \n",
    "  Random Forest Regression is one of the fastest machine learning algorithms giving accurate predictions for regression problems. Random Forest Regression works on a principle that says a number of weakly predicted estimators when combined together form a strong prediction and strong estimation. But the Random Forest Regression algorithm does not perform a good job as a classification because it does not give precise continuous nature prediction. In the case of Random Forest Regression, it doesn’t predict beyond the range in the training data. And hence may overfit data sets that are particularly noisy.\n",
    "  \n",
    "**<font color=\"#FF0000\">I.(traduzir o resto depois)</font>**"
   ]
  },
  {
   "cell_type": "markdown",
   "metadata": {},
   "source": [
    "#### $4$. Funcionamento do modelo:\n",
    "It works based on below steps:\n",
    "\n",
    "Consider a test dataset D of interest which has many X rows and Y number of features\n",
    "Pick the sample of rows and some sample of features i.e. random samples from the dataset. This is termed as Row sampling RS and Feature sample FS. These both samples combined are called data set DS.\n",
    "These samples are given to Decision trees. So, construct a decision tree for each sample and train them and find a prediction result for each decision tree.\n",
    "Now Aggregate results of all data sets by taking either mean or median of their outputs. It depends on the distribution of the output, how the decision tree is basically driven. So, the final prediction result is selected with majority average of the results.\n",
    "Using single decision tree always give low bias and high variance of results. With Random Forest Regression based on multiple decision trees outputs averaged, results are more accurate with low variance. But still as mentioned, it can’t predict beyond the range of trained dataset and doesn’t beat classification’s precise continuous nature prediction.\n",
    "\n",
    "**<font color=\"#FF0000\">I.(traduzir o resto depois)</font>**"
   ]
  },
  {
   "cell_type": "markdown",
   "metadata": {},
   "source": [
    "### Acurácia do Modelo:\n",
    "As células a seguir tem como objetivo mostrar a acurácia (Quanto prcento dos valores o modelo previu corretamente) de nosso modelo, assim como uma abordagem gráfica)"
   ]
  },
  {
   "cell_type": "markdown",
   "metadata": {},
   "source": [
    "#### Acurácia global:"
   ]
  },
  {
   "cell_type": "code",
   "execution_count": 2,
   "metadata": {},
   "outputs": [
    {
     "data": {
      "text/plain": [
       "'acurácia do modelo: 69.45%'"
      ]
     },
     "execution_count": 2,
     "metadata": {},
     "output_type": "execute_result"
    },
    {
     "data": {
      "image/png": "[encoded data removed]",
      "text/plain": [
       "<Figure size 432x288 with 1 Axes>"
      ]
     },
     "metadata": {
      "needs_background": "light"
     },
     "output_type": "display_data"
    }
   ],
   "source": [
    "Random_Forest_geral()"
   ]
  },
  {
   "cell_type": "markdown",
   "metadata": {},
   "source": [
    "#### Acurácia individual para cada carro:\n",
    "Após separar nossa base de dados original em uma base de dados individual para cada carro:\n",
    "O modelo foi treinado individualmente recebendo como entrada as novas bases e fornecendo como saída a previsão do modelo individualmente para cada carro."
   ]
  },
  {
   "cell_type": "code",
   "execution_count": 3,
   "metadata": {},
   "outputs": [
    {
     "data": {
      "application/vnd.jupyter.widget-view+json": {
       "model_id": "f61df8ba034242b89ac94948cbbd174d",
       "version_major": 2,
       "version_minor": 0
      },
      "text/plain": [
       "interactive(children=(Dropdown(description='x', options=('CHEVROLET ONIX', 'RENAULT SANDERO', 'FORD KA', 'HYUN…"
      ]
     },
     "metadata": {},
     "output_type": "display_data"
    }
   ],
   "source": [
    "interact (Random_Forest_individual, x=Mais_de_500);\n",
    "\n",
    "#Conversar com o Toshi sobre a célula anterior ter que ser rodada mais de uma vez\n",
    "#Conversar com o Toshi sobre melhorar a previsão do modelo \n",
    "#Conversar com o Toshi sobre acrescentar margem de erro de ({1 a 10%} ou {variância dos preços}) do valor individual de cada veículo\n",
    "#Conversar com o Toshi sobre substituir o plot por uma fig(Dificuldades em codigo)\n",
    "\n",
    "    #Colocar x e y label\n",
    "    #Plotar uma linha f(x) = x ### Previsão = Modelo\n",
    "    #Acrescentar margem de erro na acurácia e no plot das linhas"
   ]
  },
  {
   "cell_type": "markdown",
   "metadata": {},
   "source": [
    "Explicação completa e instruções para codagem provenientes de: https://onestopdataanalysis.com/python-random-forest-regression/"
   ]
  }
 ],
 "metadata": {
  "kernelspec": {
   "display_name": "Python 3",
   "language": "python",
   "name": "python3"
  },
  "language_info": {
   "codemirror_mode": {
    "name": "ipython",
    "version": 3
   },
   "file_extension": ".py",
   "mimetype": "text/x-python",
   "name": "python",
   "nbconvert_exporter": "python",
   "pygments_lexer": "ipython3",
   "version": "3.7.1"
  }
 },
 "nbformat": 4,
 "nbformat_minor": 2
}
