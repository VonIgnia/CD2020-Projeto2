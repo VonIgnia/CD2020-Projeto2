{
 "cells": [
  {
   "cell_type": "markdown",
   "metadata": {},
   "source": [
    "# Ciência dos Dados 2020 - Projeto 2\n",
    "___\n",
    "- Giovanni Rozatti\n",
    "- Larissa Oliveira da Silva\n",
    "___"
   ]
  },
  {
   "cell_type": "markdown",
   "metadata": {},
   "source": [
    "O principal propósito desse notebook é a hospedagem e organização das funções que serão utilizados nos outros notebooks desse projeto.\n",
    "\n",
    "Outro propósito é uma breve explicação do funcionamento individual de cada uma delas"
   ]
  },
  {
   "cell_type": "markdown",
   "metadata": {},
   "source": [
    "___\n",
    "### Imports iniciais\n",
    "- Importa bibliotecas e funções com que trabalharemos ao longo desse notebook"
   ]
  },
  {
   "cell_type": "code",
   "execution_count": 1,
   "metadata": {},
   "outputs": [],
   "source": [
    "import pandas as pd\n",
    "import numpy as np"
   ]
  },
  {
   "cell_type": "code",
   "execution_count": 2,
   "metadata": {},
   "outputs": [],
   "source": [
    "from ipywidgets import interact, interactive, fixed, interact_manual\n",
    "import ipywidgets as widgets"
   ]
  },
  {
   "cell_type": "code",
   "execution_count": 3,
   "metadata": {},
   "outputs": [],
   "source": [
    "import matplotlib.pyplot as plt\n",
    "import matplotlib"
   ]
  },
  {
   "cell_type": "code",
   "execution_count": 4,
   "metadata": {},
   "outputs": [],
   "source": [
    "from sklearn.model_selection import train_test_split as tts\n",
    "from sklearn.metrics import *"
   ]
  },
  {
   "cell_type": "markdown",
   "metadata": {},
   "source": [
    "___\n",
    "### Dados\n",
    "- Importa nossa base de dados"
   ]
  },
  {
   "cell_type": "code",
   "execution_count": 5,
   "metadata": {},
   "outputs": [],
   "source": [
    "Dados=pd.read_csv('cars_Brazil_data.csv')"
   ]
  },
  {
   "cell_type": "markdown",
   "metadata": {},
   "source": [
    "- Optamos por trabalhar apenas com carros que apareçam no Dataset no mínimo 500 vezes, esse valor foi escolhido de forma a separar o Dataset individual de cada carro em teste e treinamento, com 10% (no mínimo 50 linhas) do Dataset sendo direcionado para teste. -Observação 04/06: Talvez seja viável reduzir esse limite para 300, em contraponto o limite de 500 já fornece uma base de dados extensa o bastante e informações que parecem ser suficientes para elaborar uma conclusão."
   ]
  },
  {
   "cell_type": "code",
   "execution_count": 6,
   "metadata": {},
   "outputs": [],
   "source": [
    "#separa carros com mais de 500 ocorrências no Dataframe\n",
    "Mais_de_500 = Dados['nome'].value_counts() > 500\n",
    "Mais_de_500 = list(Mais_de_500.loc[Mais_de_500].index)\n",
    "Dados = Dados.loc[Dados['nome'].isin(Mais_de_500),:];"
   ]
  },
  {
   "cell_type": "markdown",
   "metadata": {},
   "source": [
    "#### Separando 10% do Dataframe global para treinamento\n",
    "Nota para si mesmo: Estudar se faz sentido ou não eliminar as colunas nome do carro e marca \n",
    "- <font color= \"#DD3533\"> (Observação inicial 2 de junho: Não parece fazer)\n",
    "- (Observação secundária 3 de junho: Talvez transformá-los em dummy ou hot-end)"
   ]
  },
  {
   "cell_type": "code",
   "execution_count": 7,
   "metadata": {},
   "outputs": [],
   "source": [
    "# separa características dos carros, que podem ser relevantes no contexto de uma regrssão e \\n\n",
    "# elimina as características irrelevantes assim como a coluna com resultado esperado;\n",
    "inputs = Dados.drop(columns=[\"valor\"])\n",
    "\n",
    "#separa o resultado esperado, devemos calcular a previsão mais próxima a eles;\n",
    "target = Dados[\"valor\"]\n",
    "\n",
    "#separando dataframes teste e treino\n",
    "X_train,X_test,Y_train,Y_test=tts(inputs,target,test_size=0.9)"
   ]
  },
  {
   "cell_type": "markdown",
   "metadata": {},
   "source": [
    "#### Separando 10% do Dataframe de cada carro para treinamento:"
   ]
  },
  {
   "cell_type": "code",
   "execution_count": 8,
   "metadata": {},
   "outputs": [],
   "source": [
    "#Usar essa informação com a função interact do ipywidgets\n",
    "def Separa_dataframe_por_carro(x):\n",
    "    Carro = {}\n",
    "    Carro_inputs  = {}\n",
    "    Carro_target  = {}\n",
    "    Carro_X_train = {}\n",
    "    Carro_X_test  = {}\n",
    "    Carro_Y_train = {}\n",
    "    Carro_Y_test  = {}\n",
    "\n",
    "    Carro[x] = Dados.loc[Dados['nome'] == x]\n",
    "        \n",
    "    Carro_inputs[x] = Carro[x].drop(columns=[\"valor\"])\n",
    "    Carro_target[x] = Carro[x][\"valor\"]\n",
    "        \n",
    "    #separando dataframes teste e treino\n",
    "    Carro_X_train[x],Carro_X_test[x],Carro_Y_train[x],Carro_Y_test[x]=tts(Carro_inputs[x],Carro_target[x],test_size=0.9)\n",
    "    return (Carro_X_train[x],Carro_X_test[x],Carro_Y_train[x],Carro_Y_test[x])"
   ]
  },
  {
   "cell_type": "markdown",
   "metadata": {},
   "source": [
    "___\n",
    "### Funções de Filtragem e Separação dos dados"
   ]
  },
  {
   "cell_type": "code",
   "execution_count": 9,
   "metadata": {},
   "outputs": [],
   "source": [
    "#Usar essa informação com a função interact do ipywidgets\n",
    "def Separa_por_veículo(x):\n",
    "    return Dados.loc[Dados['nome'] == x]"
   ]
  },
  {
   "cell_type": "code",
   "execution_count": 10,
   "metadata": {},
   "outputs": [],
   "source": [
    "#Usar essa informação com a função interact do ipywidgets\n",
    "def Dispersão_individual_por_veículo(x):\n",
    "    gráfico_de_dispersão  = plt.scatter (Dados.loc[Dados['nome'] == x]['valor'],Dados.loc[Dados['nome'] == x]['km_rodados'])\n",
    "    return gráfico_de_dispersão"
   ]
  },
  {
   "cell_type": "code",
   "execution_count": 11,
   "metadata": {},
   "outputs": [],
   "source": [
    "#Função incompleta(2 de junho):\n",
    "#elementos restantes, definir cores sem repetição (criar um np.arange de cores???)\n",
    "\n",
    "def Dispersão_global_por_veículo(lista):\n",
    "    for x in lista:\n",
    "        plt.scatter (Dados.loc[Dados['nome'] == x]['valor'],Dados.loc[Dados['nome'] == x]['km_rodados'],\n",
    "                 label=x) \n",
    "        #Acrescentar um sistema de arange de cores (colormap?)\n",
    "        plt.legend();"
   ]
  },
  {
   "cell_type": "markdown",
   "metadata": {},
   "source": [
    "___\n",
    "### Modelos de Regrssão e Classificação pré-processados do sklearn"
   ]
  },
  {
   "cell_type": "code",
   "execution_count": 12,
   "metadata": {},
   "outputs": [],
   "source": [
    "#Dispersão_global_por_veículo(Mais_de_500);"
   ]
  },
  {
   "cell_type": "code",
   "execution_count": 13,
   "metadata": {},
   "outputs": [],
   "source": [
    "#interact(Dispersão_individual_por_veículo, x=Mais_de_500);"
   ]
  }
 ],
 "metadata": {
  "kernelspec": {
   "display_name": "Python 3",
   "language": "python",
   "name": "python3"
  },
  "language_info": {
   "codemirror_mode": {
    "name": "ipython",
    "version": 3
   },
   "file_extension": ".py",
   "mimetype": "text/x-python",
   "name": "python",
   "nbconvert_exporter": "python",
   "pygments_lexer": "ipython3",
   "version": "3.7.1"
  }
 },
 "nbformat": 4,
 "nbformat_minor": 2
}
