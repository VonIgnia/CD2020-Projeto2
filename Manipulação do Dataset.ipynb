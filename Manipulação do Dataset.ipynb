{
 "cells": [
  {
   "cell_type": "code",
   "execution_count": 37,
   "metadata": {},
   "outputs": [],
   "source": [
    "import pandas as pd\n",
    "from ipywidgets import interact, interactive, fixed, interact_manual\n",
    "import ipywidgets as widgets"
   ]
  },
  {
   "cell_type": "code",
   "execution_count": 2,
   "metadata": {},
   "outputs": [],
   "source": [
    "Dados=pd.read_csv('cars_Brazil_data.csv')"
   ]
  },
  {
   "cell_type": "code",
   "execution_count": 19,
   "metadata": {},
   "outputs": [],
   "source": [
    "#mais de 500 ocorrências\n",
    "Mais_de500 = Dados['nome'].value_counts() > 500\n",
    "Mais_de500 = list(Mais_de500.loc[Mais_de500].index)\n",
    "Dados.loc[Dados['nome'].isin(Mais_de500),:];"
   ]
  },
  {
   "cell_type": "code",
   "execution_count": 40,
   "metadata": {},
   "outputs": [
    {
     "data": {
      "application/vnd.jupyter.widget-view+json": {
       "model_id": "d305fb7ee02d40f8a9471878a0ab65b5",
       "version_major": 2,
       "version_minor": 0
      },
      "text/plain": [
       "interactive(children=(IntSlider(value=0, description='x', max=31), Output()), _dom_classes=('widget-interact',…"
      ]
     },
     "metadata": {},
     "output_type": "display_data"
    }
   ],
   "source": [
    "def f(x):\n",
    "    return Mais_de500[x]\n",
    "interact(f, x=widgets.IntSlider(min=0, max=31, step=1, value=0));\n",
    "#existe uma maneira mais eficiente sem ser controle deslisante? Tipo uma checkbox?"
   ]
  },
  {
   "cell_type": "code",
   "execution_count": 41,
   "metadata": {},
   "outputs": [
    {
     "data": {
      "application/vnd.jupyter.widget-view+json": {
       "model_id": "9c65b730345e47eabd1f88938265c102",
       "version_major": 2,
       "version_minor": 0
      },
      "text/plain": [
       "interactive(children=(IntSlider(value=0, description='x', max=31), Output()), _dom_classes=('widget-interact',…"
      ]
     },
     "metadata": {},
     "output_type": "display_data"
    }
   ],
   "source": [
    "def f(x):\n",
    "    return Dados.loc[Dados['nome'] == Mais_de500[x]]\n",
    "interact(f, x=widgets.IntSlider(min=0, max=31, step=1, value=0));\n",
    "#existe uma maneira mais eficiente sem ser controle deslisante? Tipo uma checkbox?"
   ]
  },
  {
   "cell_type": "markdown",
   "metadata": {},
   "source": [
    "## Objetivos do Notebook:\n",
    "- Primeira observação do Dataset  (check em 28/05)\n",
    "- Filtragem inicial e Limpeza\n",
    "    - \"Separar o Dataset por nome de carro faz sentido?\"\n",
    "        - obs: Se tivermos o objetivo de determinar o preço de um carro específico, é essencial. No entanto minha dúvida é referente a um contexto mais geral.\n",
    "    - Esse é um dataset bem limpo, não acredito que haja a necessidade de eliminar nenhuma coluna* (check em 28/05)\n",
    "- Tornar a Separação por nome de carro um processo interativo com uso da função `interact` da biblioteca `ipywidgets`"
   ]
  }
 ],
 "metadata": {
  "kernelspec": {
   "display_name": "Python 3",
   "language": "python",
   "name": "python3"
  },
  "language_info": {
   "codemirror_mode": {
    "name": "ipython",
    "version": 3
   },
   "file_extension": ".py",
   "mimetype": "text/x-python",
   "name": "python",
   "nbconvert_exporter": "python",
   "pygments_lexer": "ipython3",
   "version": "3.7.1"
  }
 },
 "nbformat": 4,
 "nbformat_minor": 2
}
